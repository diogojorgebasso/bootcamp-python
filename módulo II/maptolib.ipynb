{
 "cells": [
  {
   "cell_type": "code",
   "execution_count": null,
   "metadata": {
    "vscode": {
     "languageId": "plaintext"
    }
   },
   "outputs": [],
   "source": [
    "import seaborn as sns\n",
    "import matplotlib.pyplot as plt\n",
    "\n",
    "df = pd.read_csv(\"LINK\", sep=\",\")\n",
    "\n",
    "# Séries Temporais\n",
    "fig, ax = plt.subplots(nrows=3, sharex=True, figsize=(16, 10))\n",
    "\n",
    "sns.pointplot(data=df, x='hour', y='total_count', hue='season', ax=ax[0]) # we defined HUE as the time interval that we want\n",
    "ax[0].set_title(\"Locações horáras de bicicletas por estação do ano\")\n",
    "ax[0].grid()\n",
    "\n",
    "sns.pointplot(data=df, x='hour', y='total_count', hue='weekday', ax=ax[1])\n",
    "ax[1].set_title(\"Locações horárias de bicicletas por dia da semana\")\n",
    "ax[1].grid();\n",
    "\n",
    "sns.pointplot(data=df, x='hour', y='total_count', hue='is_workingday', ax=ax[2])\n",
    "ax[2].set_title(\"Locações horárias de bicicletas por dia da semana sem feriado\")\n",
    "ax[2].grid();"
   ]
  }
 ],
 "metadata": {
  "language_info": {
   "name": "python"
  }
 },
 "nbformat": 4,
 "nbformat_minor": 2
}
