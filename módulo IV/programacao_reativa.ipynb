{
  "cells": [
    {
      "cell_type": "markdown",
      "metadata": {
        "colab_type": "text",
        "id": "view-in-github"
      },
      "source": [
        "<a href=\"https://colab.research.google.com/github/diogojorgebasso/bootcamp-python-igti/blob/main/aula_2-mod4.ipynb\" target=\"_parent\"><img src=\"https://colab.research.google.com/assets/colab-badge.svg\" alt=\"Open In Colab\"/></a>"
      ]
    },
    {
      "cell_type": "code",
      "execution_count": null,
      "metadata": {
        "colab": {
          "base_uri": "https://localhost:8080/"
        },
        "id": "hkJTeawLnaX-",
        "outputId": "d7d4c275-99dc-469a-df2e-8b8ad1365d38",
        "vscode": {
          "languageId": "python"
        }
      },
      "outputs": [
        {
          "name": "stdout",
          "output_type": "stream",
          "text": [
            "Requirement already satisfied: rx in /usr/local/lib/python3.6/dist-packages (3.1.1)\n"
          ]
        }
      ],
      "source": [
        "#instalando o rx para o google colab\n",
        "!pip install rx"
      ]
    },
    {
      "cell_type": "code",
      "execution_count": null,
      "metadata": {
        "colab": {
          "base_uri": "https://localhost:8080/"
        },
        "id": "Pueo66-bngdF",
        "outputId": "e6bf11fa-b2f5-4082-b3bb-9601163b77bb",
        "vscode": {
          "languageId": "python"
        }
      },
      "outputs": [
        {
          "name": "stdout",
          "output_type": "stream",
          "text": [
            "on_next: 0\n",
            "on_next: 2\n",
            "on_next: 4\n",
            "on_completed\n",
            "Fim\n"
          ]
        }
      ],
      "source": [
        "#programação reativa\n",
        "import rx\n",
        "import rx.operators as ops\n",
        "\n",
        "source = rx.from_iterable([1,2,3,4,5])\n",
        "#source = rx.from_iterable([1,2,'abc',4,5]) #observable\n",
        "\n",
        "disposable=source.pipe(\n",
        "    ops.map(lambda i:i-1),\n",
        "    ops.filter(lambda i:i%2==0),\n",
        ").subscribe( #observer\n",
        "    on_next=lambda i: print(\"on_next: {}\".format(i)),\n",
        "    on_completed=lambda: print(\"on_completed\"),\n",
        "    on_error=lambda e:print(\"on_error: {}\".format(e))\n",
        ")\n",
        "\n",
        "disposable.dispose()\n",
        "\n",
        "print(\"Fim\")"
      ]
    }
  ],
  "metadata": {
    "colab": {
      "include_colab_link": true,
      "name": "aula_2.ipynb",
      "provenance": []
    },
    "kernelspec": {
      "display_name": "Python 3",
      "name": "python3"
    }
  },
  "nbformat": 4,
  "nbformat_minor": 0
}
