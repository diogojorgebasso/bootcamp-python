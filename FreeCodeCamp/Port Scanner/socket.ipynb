{
 "cells": [
  {
   "cell_type": "markdown",
   "metadata": {},
   "source": [
    "Dado um domínio e um array de portas possíveis, liste estas abertas."
   ]
  },
  {
   "cell_type": "code",
   "execution_count": null,
   "metadata": {
    "colab": {
     "base_uri": "https://localhost:8080/"
    },
    "executionInfo": {
     "elapsed": 40689,
     "status": "ok",
     "timestamp": 1616203514554,
     "user": {
      "displayName": "Diogo Basso",
      "photoUrl": "https://lh3.googleusercontent.com/a-/AOh14GhbW5ExhT9WWKHkIgQlET3nGZIpe6GxSXd4JXn32vg=s64",
      "userId": "00947219564314853817"
     },
     "user_tz": 180
    },
    "id": "b2FeOy8fO1we",
    "outputId": "ed1acacb-e47c-449e-ef08-4a97b0acec2e"
   },
   "outputs": [
    {
     "name": "stdout",
     "output_type": "stream",
     "text": [
      "port 80 is opened\n"
     ]
    },
    {
     "data": {
      "text/plain": [
       "[80]"
      ]
     },
     "metadata": {},
     "output_type": "display_data"
    }
   ],
   "source": [
    "import socket\n",
    "\n",
    "def get_open_ports(target, port_range):\n",
    "  open_ports=[]\n",
    "  for i in range(port_range[0], port_range[1]):\n",
    "    s = socket.socket(socket.AF_INET,socket.SOCK_STREAM)\n",
    "    socket.setdefaulttimeout(1)\n",
    "    if s.connect_ex((target,i)) ==0:\n",
    "      print(f'port {i} is opened')\n",
    "      open_ports.append(i)\n",
    "    s.close()\n",
    "  return open_ports\n",
    "get_open_ports(\"www.freecodecamp.org\", [75,85])"
   ]
  },
  {
   "cell_type": "code",
   "execution_count": null,
   "metadata": {
    "colab": {
     "base_uri": "https://localhost:8080/"
    },
    "executionInfo": {
     "elapsed": 102990,
     "status": "ok",
     "timestamp": 1616207365070,
     "user": {
      "displayName": "Diogo Basso",
      "photoUrl": "https://lh3.googleusercontent.com/a-/AOh14GhbW5ExhT9WWKHkIgQlET3nGZIpe6GxSXd4JXn32vg=s64",
      "userId": "00947219564314853817"
     },
     "user_tz": 180
    },
    "id": "3o1c63mcRShZ",
    "outputId": "458929a3-970c-4b16-b7f8-759493cc1b58"
   },
   "outputs": [],
   "source": [
    "import socket\n",
    "from common_ports import ports_and_services\n",
    "print(ports_and_services)\n",
    "def fancyList(arrayInput):\n",
    "  for x in arrayInput:\n",
    "    print(x,end=\".\")\n",
    "def findService(port):\n",
    "  for x in ports_and_services:\n",
    "    if port ==x:\n",
    "      return ports_and_services[x]\n",
    "def get_open_ports(target, port_range, verbose=False):\n",
    "  open_ports=[]\n",
    "  if verbose:\n",
    "    print(f\"Open ports for {target} ({fancyList(open_ports)})\")\n",
    "    print(\"PORT     SERVICE\")\n",
    "  for i in range(port_range[0], port_range[1]):\n",
    "    s = socket.socket(socket.AF_INET,socket.SOCK_STREAM)\n",
    "    socket.setdefaulttimeout(1)\n",
    "    if s.connect_ex((target,i)) ==0:\n",
    "      print(f'{i}    {findService(i)}')\n",
    "      open_ports.append(i)\n",
    "    s.close()\n",
    "  return(open_ports)\n",
    "get_open_ports('google.com.br', [7,110], True)"
   ]
  }
 ],
 "metadata": {
  "language_info": {
   "name": "python"
  },
  "orig_nbformat": 4
 },
 "nbformat": 4,
 "nbformat_minor": 2
}
