{
 "cells": [
  {
   "cell_type": "markdown",
   "metadata": {},
   "source": [
    "O loop é uma repetição iterada, ao passo de uma quantidade."
   ]
  },
  {
   "cell_type": "code",
   "execution_count": null,
   "metadata": {
    "vscode": {
     "languageId": "plaintext"
    }
   },
   "outputs": [],
   "source": [
    "sequencia = range(0,5)\n",
    "for num in sequencia:\n",
    "  print(num)\n",
    "\n",
    "sum = 0\n",
    "for num in sequencia:\n",
    "  sum+= num\n",
    "print(sum)\n",
    "\n",
    "sequencia = range(0,5)\n",
    "for num in sequencia:\n",
    "  print(num)\n",
    "else:\n",
    "  print('loop terminou normalmente')\n",
    "\n",
    "sequencia = range(0,5)\n",
    "for num in sequencia:\n",
    "  if num <3:\n",
    "    print(num)\n",
    "  else:\n",
    "    break\n",
    "else:\n",
    "  print('loop terminou normalmente')"
   ]
  },
  {
   "cell_type": "markdown",
   "metadata": {},
   "source": [
    "### Perigo do Loop Infinito"
   ]
  },
  {
   "cell_type": "code",
   "execution_count": null,
   "metadata": {
    "vscode": {
     "languageId": "plaintext"
    }
   },
   "outputs": [],
   "source": [
    "num = 5\n",
    "while num >0:\n",
    "  print(num)"
   ]
  },
  {
   "cell_type": "markdown",
   "metadata": {},
   "source": [
    "Se você quiser rodar um loop mas não tem a quantidade específica de vezes, pode usar um operador de decremento:"
   ]
  },
  {
   "cell_type": "code",
   "execution_count": null,
   "metadata": {
    "vscode": {
     "languageId": "plaintext"
    }
   },
   "outputs": [],
   "source": [
    "num = 5\n",
    "while num >0:\n",
    "  print(num)\n",
    "  num-=1"
   ]
  }
 ],
 "metadata": {
  "language_info": {
   "name": "python"
  }
 },
 "nbformat": 4,
 "nbformat_minor": 2
}
