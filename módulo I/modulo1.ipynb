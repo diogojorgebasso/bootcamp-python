{
  "nbformat": 4,
  "nbformat_minor": 0,
  "metadata": {
    "colab": {
      "name": "IGTI-mod1.ipynb",
      "provenance": [],
      "toc_visible": true,
      "authorship_tag": "ABX9TyPOIrh3w4zhOEexmbKNdy/e",
      "include_colab_link": true
    },
    "kernelspec": {
      "name": "python3",
      "display_name": "Python 3"
    }
  },
  "cells": [
    {
      "cell_type": "markdown",
      "metadata": {
        "id": "view-in-github",
        "colab_type": "text"
      },
      "source": [
        "<a href=\"https://colab.research.google.com/github/diogojorgebasso/bootcamp-python-igti/blob/main/modulo1.ipynb\" target=\"_parent\"><img src=\"https://colab.research.google.com/assets/colab-badge.svg\" alt=\"Open In Colab\"/></a>"
      ]
    },
    {
      "cell_type": "markdown",
      "metadata": {
        "id": "g58EqC0xm2-4"
      },
      "source": [
        "# Anotações preciosas do Módulo I - curso IGTI. Fundamentos do Python"
      ]
    },
    {
      "cell_type": "markdown",
      "metadata": {
        "id": "0YUaF48MmwhW"
      },
      "source": [
        "Import files in Google Colab"
      ]
    },
    {
      "cell_type": "code",
      "metadata": {
        "id": "zj7hSEtV8IRg"
      },
      "source": [
        "from google.colab import files\n",
        "#uploaded = files.upload()\n",
        "arquivo = open('sample_data/README.md',\"r\")\n",
        "for linhas in arquivo:\n",
        "  print(linhas)\n",
        "arquivo.close()"
      ],
      "execution_count": null,
      "outputs": []
    },
    {
      "cell_type": "code",
      "metadata": {
        "id": "haX2P1dkFbWo"
      },
      "source": [
        "arq = open('testing','r')\n",
        "linha = arq.readline().rstrip()\n",
        "contador = 0\n",
        "while linha != 'Programming':\n",
        "  contador+=1\n",
        "  print(contador)\n",
        "arq.close()"
      ],
      "execution_count": null,
      "outputs": []
    },
    {
      "cell_type": "markdown",
      "metadata": {
        "id": "QOGnp6dMnYlm"
      },
      "source": [
        "## Testando Entradas, tipos de dados e criação de arquivos"
      ]
    },
    {
      "cell_type": "code",
      "metadata": {
        "colab": {
          "base_uri": "https://localhost:8080/"
        },
        "id": "TJi34gGZD0q1",
        "outputId": "fd3b1e87-2387-4591-cc36-f28f90eaebe4"
      },
      "source": [
        "arq = str(input('Digite aqui, por favor, o nome do arquivo a ser criado: '))\n",
        "nome = str(input('Digite aqui seu nome: '))\n",
        "idade = int(input('Digite aqui sua idade: '))\n",
        "cidade = str(input('digite sua cidade: '))\n",
        "arquivo_saida = open(arq, 'w')\n",
        "arquivo_saida.write(f\"Olá, eu sou {nome}, tenho {idade} anos. Moro com orgulho em {cidade}\\n Feito com amor por Diogo's Programming\")\n",
        "arquivo_saida.close()"
      ],
      "execution_count": null,
      "outputs": [
        {
          "output_type": "stream",
          "text": [
            "Digite aqui, por favor, o nome do arquivo a ser criado: testing\n",
            "Digite aqui seu nome: Digoo\n",
            "Digite aqui sua idade: 17\n",
            "digite sua cidade: SJC\n"
          ],
          "name": "stdout"
        }
      ]
    },
    {
      "cell_type": "markdown",
      "metadata": {
        "id": "lBJJlq7cpALl"
      },
      "source": [
        "### Concatenação e soma de dados com base no tipo"
      ]
    },
    {
      "cell_type": "code",
      "metadata": {
        "colab": {
          "base_uri": "https://localhost:8080/"
        },
        "id": "Dsp6zogQDdYR",
        "outputId": "e1508a18-7b90-43ea-98c8-d5770611ea4d"
      },
      "source": [
        "lista1 = [1,2,'IGTI']\n",
        "lista2 = [3,4,'Harvadr']\n",
        "lista = lista1+lista2\n",
        "print(lista)"
      ],
      "execution_count": null,
      "outputs": [
        {
          "output_type": "stream",
          "text": [
            "[1, 2, 'IGTI', 3, 4, 'Harvadr']\n"
          ],
          "name": "stdout"
        }
      ]
    },
    {
      "cell_type": "code",
      "metadata": {
        "colab": {
          "base_uri": "https://localhost:8080/"
        },
        "id": "Rl8WEBBRCjp8",
        "outputId": "04dabe64-16d9-4dd5-bb15-2e7a02190f0a"
      },
      "source": [
        "idade = int(input ('Digita ai'))\n",
        "nova = idade+1\n",
        "print(nova)"
      ],
      "execution_count": null,
      "outputs": [
        {
          "output_type": "stream",
          "text": [
            "Digita ai1\n",
            "2\n"
          ],
          "name": "stdout"
        }
      ]
    },
    {
      "cell_type": "markdown",
      "metadata": {
        "id": "ROlxqhQcnIX_"
      },
      "source": [
        "## Estudo de Repetição e Loops"
      ]
    },
    {
      "cell_type": "markdown",
      "metadata": {
        "id": "R_IHUixkpaAT"
      },
      "source": [
        "For"
      ]
    },
    {
      "cell_type": "code",
      "metadata": {
        "colab": {
          "base_uri": "https://localhost:8080/"
        },
        "id": "dWzCp53iynp4",
        "outputId": "be9713bb-f38c-4e72-d1e9-655ca7be03bb"
      },
      "source": [
        "for x in range(1, 10, 2):\n",
        "  print(x)"
      ],
      "execution_count": 3,
      "outputs": [
        {
          "output_type": "stream",
          "text": [
            "1\n",
            "3\n",
            "5\n",
            "7\n",
            "9\n"
          ],
          "name": "stdout"
        }
      ]
    },
    {
      "cell_type": "code",
      "metadata": {
        "colab": {
          "base_uri": "https://localhost:8080/"
        },
        "id": "ukWxNZRaEFN5",
        "outputId": "78532643-d916-4c07-b834-5bedbe646093"
      },
      "source": [
        "frutas = ['maçã','banan', 'uva', 'goiaba']\n",
        "frutas.append('Diogo')\n",
        "for x in frutas:\n",
        "  if x =='uva':\n",
        "    break\n",
        "  print(x)"
      ],
      "execution_count": null,
      "outputs": [
        {
          "output_type": "stream",
          "text": [
            "maçã\n",
            "banan\n"
          ],
          "name": "stdout"
        }
      ]
    },
    {
      "cell_type": "markdown",
      "metadata": {
        "id": "4-wVDURIpX_x"
      },
      "source": [
        "While"
      ]
    },
    {
      "cell_type": "code",
      "metadata": {
        "id": "WJsMQ-vOEnwC",
        "colab": {
          "base_uri": "https://localhost:8080/"
        },
        "outputId": "b9ab85fd-c26c-4698-e5a6-f1ec8b1cb649"
      },
      "source": [
        "n = 5\n",
        "while n > 0:\n",
        "  n-=1\n",
        "  print(n)"
      ],
      "execution_count": 4,
      "outputs": [
        {
          "output_type": "stream",
          "text": [
            "4\n",
            "3\n",
            "2\n",
            "1\n",
            "0\n"
          ],
          "name": "stdout"
        }
      ]
    },
    {
      "cell_type": "markdown",
      "metadata": {
        "id": "jQLwdhj2qFFX"
      },
      "source": [
        "### Programação <s>imperativa</s> semântica"
      ]
    },
    {
      "cell_type": "code",
      "metadata": {
        "colab": {
          "base_uri": "https://localhost:8080/"
        },
        "id": "zc3qVTupZQUo",
        "outputId": "89a7b0c7-542a-45a9-ad10-161ad50e7c20"
      },
      "source": [
        "lista = [int(i) for i in input('digite a lista de valores aqui').split()]\n",
        "print('A lista analisada pelo programa foi: ', lista)\n",
        "for x in lista:\n",
        "    for y in lista:\n",
        "      try:\n",
        "        if x % y == 0:\n",
        "          print(f'{x} é divisível por {y}')\n",
        "      except:\n",
        "        continue"
      ],
      "execution_count": 5,
      "outputs": [
        {
          "output_type": "stream",
          "text": [
            "digite a lista de valores aqui0 4 5 8 2\n",
            "A lista analisada pelo programa foi:  [0, 4, 5, 8, 2]\n",
            "0 é divisível por 4\n",
            "0 é divisível por 5\n",
            "0 é divisível por 8\n",
            "0 é divisível por 2\n",
            "4 é divisível por 4\n",
            "4 é divisível por 2\n",
            "5 é divisível por 5\n",
            "8 é divisível por 4\n",
            "8 é divisível por 8\n",
            "8 é divisível por 2\n",
            "2 é divisível por 2\n"
          ],
          "name": "stdout"
        }
      ]
    },
    {
      "cell_type": "markdown",
      "metadata": {
        "id": "y98fhPNGpjZ_"
      },
      "source": [
        "## Funções"
      ]
    },
    {
      "cell_type": "code",
      "metadata": {
        "colab": {
          "base_uri": "https://localhost:8080/"
        },
        "id": "ZO_Xczxgggie",
        "outputId": "3fce7542-bc40-4cb9-d39e-5502332bac86"
      },
      "source": [
        "#*args --> tal como o spread operator.\n",
        "def mostra_nome(*nomes):\n",
        "  for nome in (nomes):\n",
        "    print(f'Olá, {nome}')\n",
        "def mostra_frase(*frases):\n",
        "  lista = []\n",
        "  for msg in frases:\n",
        "    print(msg, end=\" \")\n",
        "mostra_nome('Diogo', 'Camila', 'Ana')\n",
        "mostra_frase('TOP','IGTI È FERA','Vamos melhorar a educação do país.')"
      ],
      "execution_count": 11,
      "outputs": [
        {
          "output_type": "stream",
          "text": [
            "Olá, Diogo\n",
            "Olá, Camila\n",
            "Olá, Ana\n",
            "TOP IGTI È FERA Vamos melhorar a educação do país. "
          ],
          "name": "stdout"
        }
      ]
    },
    {
      "cell_type": "code",
      "metadata": {
        "colab": {
          "base_uri": "https://localhost:8080/"
        },
        "id": "A5hElKYsLMiv",
        "outputId": "f2d54eb0-9df9-4826-e831-e7e9032d0e1c"
      },
      "source": [
        "def text_inverted(string):\n",
        "  char = \" \"\n",
        "  for letter in (string):\n",
        "    char = letter + char\n",
        "  return char\n",
        "texto = str(input())\n",
        "while texto.strip() != '':\n",
        "  print(f'o inverso de {texto} é {text_inverted(texto)}')\n",
        "  choice = str(input('Almeja digitar mais? '))\n",
        "  if choice[0] == 's':\n",
        "    texto = str(input('Digite aqui...'))\n",
        "  else:\n",
        "    break\n",
        "print('muito obrigado por ultilizar o código.')"
      ],
      "execution_count": 12,
      "outputs": [
        {
          "output_type": "stream",
          "text": [
            "diogo\n",
            "o inverso de diogo é ogoid \n",
            "Almeja digitar mais? n\n",
            "muito obrigado por ultilizar o código.\n"
          ],
          "name": "stdout"
        }
      ]
    },
    {
      "cell_type": "markdown",
      "metadata": {
        "id": "4Te4FHepqdS6"
      },
      "source": [
        "### Recursiva"
      ]
    },
    {
      "cell_type": "code",
      "metadata": {
        "colab": {
          "base_uri": "https://localhost:8080/"
        },
        "id": "L_DN0Yq3bbWW",
        "outputId": "47ee1130-b010-4665-c05e-1fcca5ffad90"
      },
      "source": [
        "def fatorial(n):\n",
        "  if n==0:\n",
        "    return 1\n",
        "  return n*fatorial(n-1)\n",
        "print(fatorial(4))"
      ],
      "execution_count": 6,
      "outputs": [
        {
          "output_type": "stream",
          "text": [
            "24\n"
          ],
          "name": "stdout"
        }
      ]
    },
    {
      "cell_type": "markdown",
      "metadata": {
        "id": "G8nuYaNUwJTL"
      },
      "source": [
        "## Leitura de XML em Python"
      ]
    },
    {
      "cell_type": "code",
      "metadata": {
        "colab": {
          "base_uri": "https://localhost:8080/"
        },
        "id": "sHQ0H9uFwJB6",
        "outputId": "d24c5217-e4f6-4d58-b03f-424674a7a2b0"
      },
      "source": [
        "from xml.dom import minidom\n",
        "documento = minidom.parse('teste.xml')\n",
        "print(documento.documentElement.tagName) #nó principal para o arquivo XML\n",
        "tag_filho = documento.getElementsByTagName('Test')\n",
        "principal = documento.getElementsByTagName('Input')\n",
        "#acessando atributo no elemento filho:\n",
        "for item2 in tag_filho:\n",
        "  print(item2.attributes['TestId'].value)\n",
        "#acessando os elementos de um arquivo:\n",
        "for item in principal:\n",
        "  print(item.firstChild.data)"
      ],
      "execution_count": null,
      "outputs": [
        {
          "output_type": "stream",
          "text": [
            "Tests\n",
            "0001\n",
            "0002\n",
            "0003\n",
            "0004\n",
            "0005\n",
            "0006\n",
            "1\n",
            "abc\n",
            "123\n",
            "a1\n",
            "This is a test\n",
            "Test Input\n"
          ],
          "name": "stdout"
        }
      ]
    },
    {
      "cell_type": "markdown",
      "metadata": {
        "id": "MStnjWq5xagu"
      },
      "source": [
        "Para mais, consultar em: https://docs.python.org/3/library/xml.dom.minidom.html#module-xml.dom.minidom"
      ]
    },
    {
      "cell_type": "markdown",
      "metadata": {
        "id": "J5ZbUFKbpfbY"
      },
      "source": [
        "## Classe"
      ]
    },
    {
      "cell_type": "markdown",
      "metadata": {
        "id": "D83knqNCKhkh"
      },
      "source": [
        "### Criemos, abaixo, uma classe em Python no modelo de logística"
      ]
    },
    {
      "cell_type": "code",
      "metadata": {
        "colab": {
          "base_uri": "https://localhost:8080/",
          "height": 35
        },
        "id": "Uk6J8ejnKhEc",
        "outputId": "bdb7de14-85b9-45ad-d67c-420827407efe"
      },
      "source": [
        "entrada_1=Logistica('carro', 'branco', '6')\n",
        "entrada_1.get_numero_portas()"
      ],
      "execution_count": null,
      "outputs": [
        {
          "output_type": "execute_result",
          "data": {
            "application/vnd.google.colaboratory.intrinsic+json": {
              "type": "string"
            },
            "text/plain": [
              "'6'"
            ]
          },
          "metadata": {
            "tags": []
          },
          "execution_count": 10
        }
      ]
    },
    {
      "cell_type": "code",
      "metadata": {
        "id": "fz1o1YR8J3Gl"
      },
      "source": [
        "class Logistica:\n",
        "  def __init__(self, tipo_veiculo='caminhão', cor='prata', numero_portas='4'):\n",
        "    self.tipo_veiculo=tipo_veiculo\n",
        "    self.cor = cor\n",
        "    self.numero_portas=numero_portas\n",
        "  def get_tipo_veiculo(self):\n",
        "    return self.tipo_veiculo\n",
        "  def get_numero_portas(self):\n",
        "    return self.numero_portas\n",
        "  def get_cor(self):\n",
        "    return self.cor\n",
        "  def set_cor(self, nova_cor):\n",
        "    self.cor = nova_cor\n",
        "    return self.cor"
      ],
      "execution_count": null,
      "outputs": []
    },
    {
      "cell_type": "code",
      "metadata": {
        "id": "iAeJYYvxP3Kl"
      },
      "source": [
        "class carro(Logistica):\n",
        "  '''essa é uma classe filha de Logisitca'''\n",
        "  def __init__(self, modelo='Astra'):\n",
        "    self.modelo=modelo\n",
        "  def get_modelo(self):\n",
        "    return self.modelo"
      ],
      "execution_count": null,
      "outputs": []
    },
    {
      "cell_type": "code",
      "metadata": {
        "colab": {
          "base_uri": "https://localhost:8080/"
        },
        "id": "4fPhdQhUSKSH",
        "outputId": "fa7ee64a-27c3-4c4a-a664-607e9bf672df"
      },
      "source": [
        "carro_1=carro()\n",
        "print(carro_1.get_tipo_veiculo)"
      ],
      "execution_count": null,
      "outputs": [
        {
          "output_type": "stream",
          "text": [
            "<bound method Logistica.get_tipo_veiculo of <__main__.carro object at 0x7f3df232d1d0>>\n"
          ],
          "name": "stdout"
        }
      ]
    },
    {
      "cell_type": "markdown",
      "metadata": {
        "id": "nRg46LykrUB7"
      },
      "source": [
        "### Classe Raiz:"
      ]
    },
    {
      "cell_type": "code",
      "metadata": {
        "colab": {
          "base_uri": "https://localhost:8080/"
        },
        "id": "Po9BLtq5qBVu",
        "outputId": "ea3cabc7-9c9c-4e72-d2b7-6e4116bdf5f0"
      },
      "source": [
        "class carro:\n",
        "  def __init__(self, numero_portas, preco, peso):\n",
        "    self.numero_portas = numero_portas\n",
        "    self.preco = preco\n",
        "    self.peso = peso\n",
        "    print('construtor iniciado')\n",
        "  def get_portas(self):\n",
        "    return self.numero_portas\n",
        "  def set_portas(self, novo_num_porta):\n",
        "    self.numero_portas = novo_num_porta\n",
        "carro1 = carro(4,50000,4000)\n",
        "carro2 = carro(4, 5000, 45)\n",
        "print(carro2.get_portas())\n",
        "carro1.set_portas(1)\n",
        "print(carro1.get_portas())"
      ],
      "execution_count": null,
      "outputs": [
        {
          "output_type": "stream",
          "text": [
            "construtor iniciado\n",
            "construtor iniciado\n",
            "4\n",
            "1\n"
          ],
          "name": "stdout"
        }
      ]
    },
    {
      "cell_type": "code",
      "metadata": {
        "id": "PkcQ5rp4sxFN"
      },
      "source": [
        "class Retangulo:\n",
        "  def __init__(self, comprimento, largura):\n",
        "    self.comprimento = comprimento\n",
        "    self.largura = largura\n",
        "  def area(self):\n",
        "    return self.comprimento*self.largura\n",
        "class Quadrado(Retangulo):\n",
        "  def __init__(self, comprimento):\n",
        "    super().__init__(comprimento, comprimento)"
      ],
      "execution_count": null,
      "outputs": []
    },
    {
      "cell_type": "code",
      "metadata": {
        "colab": {
          "base_uri": "https://localhost:8080/"
        },
        "id": "_smGoF6ouxhN",
        "outputId": "134b71db-8aec-461d-8f32-b29034d22c17"
      },
      "source": [
        "quadrado_1 = Quadrado(6)\n",
        "print(quadrado_1.area())"
      ],
      "execution_count": null,
      "outputs": [
        {
          "output_type": "stream",
          "text": [
            "36\n"
          ],
          "name": "stdout"
        }
      ]
    },
    {
      "cell_type": "code",
      "metadata": {
        "id": "pHxySWkhvfoG"
      },
      "source": [
        "class Cubo(Quadrado):\n",
        "  def area_superficie(self):\n",
        "    area_total_superficie = super().area()\n",
        "    return area_total_superficie*6\n",
        "  def volume(self):\n",
        "    volume = super().area()\n",
        "    return volume*self.comprimento"
      ],
      "execution_count": null,
      "outputs": []
    },
    {
      "cell_type": "markdown",
      "metadata": {
        "id": "u5nnpGuDrZlO"
      },
      "source": [
        "### Verficação de classe pai"
      ]
    },
    {
      "cell_type": "code",
      "metadata": {
        "colab": {
          "base_uri": "https://localhost:8080/"
        },
        "id": "LhfKUZwyxqD3",
        "outputId": "379d8103-436b-42f4-ea28-edbff0b3ce7c"
      },
      "source": [
        "#checando se é ou não instancia e subclasse, respectivamente:\n",
        "print(issubclass(Cubo, Retangulo))\n",
        "print(isinstance(cubo_1, Retangulo))"
      ],
      "execution_count": null,
      "outputs": [
        {
          "output_type": "stream",
          "text": [
            "True\n",
            "True\n"
          ],
          "name": "stdout"
        }
      ]
    },
    {
      "cell_type": "code",
      "metadata": {
        "colab": {
          "base_uri": "https://localhost:8080/"
        },
        "id": "fjc6h-GbwDxh",
        "outputId": "c7864cf9-f426-4117-a7e0-29fa388e27cc"
      },
      "source": [
        "cubo_1 = Cubo(6)\n",
        "print(cubo_1.volume())"
      ],
      "execution_count": null,
      "outputs": [
        {
          "output_type": "stream",
          "text": [
            "216\n"
          ],
          "name": "stdout"
        }
      ]
    },
    {
      "cell_type": "markdown",
      "metadata": {
        "id": "EOros9WRUBNM"
      },
      "source": [
        "## Função Lambda"
      ]
    },
    {
      "cell_type": "code",
      "metadata": {
        "colab": {
          "base_uri": "https://localhost:8080/"
        },
        "id": "BPweLdLeUA1A",
        "outputId": "7551b989-3aee-4be4-d45b-585ad86e7b64"
      },
      "source": [
        "f = lambda x, y: x*y if x*y<100 else x+y\n",
        "f(4,50)"
      ],
      "execution_count": null,
      "outputs": [
        {
          "output_type": "execute_result",
          "data": {
            "text/plain": [
              "54"
            ]
          },
          "metadata": {
            "tags": []
          },
          "execution_count": 28
        }
      ]
    },
    {
      "cell_type": "markdown",
      "metadata": {
        "id": "LbLaK0kRGs7U"
      },
      "source": [
        "## Extra: *Desafios* Módulo I"
      ]
    },
    {
      "cell_type": "code",
      "metadata": {
        "colab": {
          "base_uri": "https://localhost:8080/"
        },
        "id": "YC1673F5GyCO",
        "outputId": "8f22b275-c7d1-42d7-ce1c-0a020b708d1c"
      },
      "source": [
        "def funcao_1(num1, num2):\n",
        "  resultado = num1*num2\n",
        "  if resultado %2 ==0:\n",
        "    return resultado\n",
        "  else:\n",
        "    return num1+num2\n",
        "\n",
        "funcao_1(10,20)\n"
      ],
      "execution_count": null,
      "outputs": [
        {
          "output_type": "execute_result",
          "data": {
            "text/plain": [
              "200"
            ]
          },
          "metadata": {
            "tags": []
          },
          "execution_count": 5
        }
      ]
    },
    {
      "cell_type": "code",
      "metadata": {
        "colab": {
          "base_uri": "https://localhost:8080/",
          "height": 202
        },
        "id": "Mo6Tl7bZHKmD",
        "outputId": "2a552432-c730-48e2-af8c-52b9a6cd1141"
      },
      "source": [
        "def funcao_2(num):\n",
        "  numero_anterior = 0\n",
        "  for i in range(num)):\n",
        "    resultado = numero_anterior+i\n",
        "    print('Numero A', i, 'Numero B', numero_anterior, 'resultado: ', resultado)\n",
        "    numero_anterior = i\n",
        "funcao_2(list(range(num)))"
      ],
      "execution_count": null,
      "outputs": [
        {
          "output_type": "error",
          "ename": "NameError",
          "evalue": "ignored",
          "traceback": [
            "\u001b[0;31m---------------------------------------------------------------------------\u001b[0m",
            "\u001b[0;31mNameError\u001b[0m                                 Traceback (most recent call last)",
            "\u001b[0;32m<ipython-input-23-1f19094367a6>\u001b[0m in \u001b[0;36m<module>\u001b[0;34m()\u001b[0m\n\u001b[1;32m      5\u001b[0m     \u001b[0mprint\u001b[0m\u001b[0;34m(\u001b[0m\u001b[0;34m'Numero A'\u001b[0m\u001b[0;34m,\u001b[0m \u001b[0mi\u001b[0m\u001b[0;34m,\u001b[0m \u001b[0;34m'Numero B'\u001b[0m\u001b[0;34m,\u001b[0m \u001b[0mnumero_anterior\u001b[0m\u001b[0;34m,\u001b[0m \u001b[0;34m'resultado: '\u001b[0m\u001b[0;34m,\u001b[0m \u001b[0mresultado\u001b[0m\u001b[0;34m)\u001b[0m\u001b[0;34m\u001b[0m\u001b[0;34m\u001b[0m\u001b[0m\n\u001b[1;32m      6\u001b[0m     \u001b[0mnumero_anterior\u001b[0m \u001b[0;34m=\u001b[0m \u001b[0mi\u001b[0m\u001b[0;34m\u001b[0m\u001b[0;34m\u001b[0m\u001b[0m\n\u001b[0;32m----> 7\u001b[0;31m \u001b[0mfuncao_2\u001b[0m\u001b[0;34m(\u001b[0m\u001b[0mlist\u001b[0m\u001b[0;34m(\u001b[0m\u001b[0mrange\u001b[0m\u001b[0;34m(\u001b[0m\u001b[0mnum\u001b[0m\u001b[0;34m)\u001b[0m\u001b[0;34m)\u001b[0m\u001b[0;34m)\u001b[0m\u001b[0;34m\u001b[0m\u001b[0;34m\u001b[0m\u001b[0m\n\u001b[0m",
            "\u001b[0;31mNameError\u001b[0m: name 'num' is not defined"
          ]
        }
      ]
    },
    {
      "cell_type": "code",
      "metadata": {
        "colab": {
          "base_uri": "https://localhost:8080/"
        },
        "id": "LIoqQXeMJJ2s",
        "outputId": "35aa8328-1497-4f44-b4ae-3fbf9a7b4ac8"
      },
      "source": [
        "def funcao_3(str):\n",
        "  for i in range(1, len(str)-1, 2):\n",
        "    print(\"indice[\",i,\"]\", str[i] )\n",
        "\n",
        "funcao_3('diegão')"
      ],
      "execution_count": null,
      "outputs": [
        {
          "output_type": "stream",
          "text": [
            "indice[ 1 ] i\n",
            "indice[ 3 ] g\n"
          ],
          "name": "stdout"
        }
      ]
    },
    {
      "cell_type": "code",
      "metadata": {
        "colab": {
          "base_uri": "https://localhost:8080/"
        },
        "id": "qDzqKIpUKCe3",
        "outputId": "8d7faa44-c13c-4fbf-ecde-82990b7b2bb6"
      },
      "source": [
        "def funcao_4(lista_numerica):\n",
        "  print('valor passado...', lista_numerica)\n",
        "  a = lista_numerica[0]\n",
        "  b = lista_numerica[-1]\n",
        "  if a!=b:\n",
        "    return True\n",
        "  else:\n",
        "    return False\n",
        "funcao_4([10,20,30,40,10])"
      ],
      "execution_count": null,
      "outputs": [
        {
          "output_type": "stream",
          "text": [
            "valor passado... [10, 20, 30, 40, 10]\n"
          ],
          "name": "stdout"
        },
        {
          "output_type": "execute_result",
          "data": {
            "text/plain": [
              "False"
            ]
          },
          "metadata": {
            "tags": []
          },
          "execution_count": 12
        }
      ]
    },
    {
      "cell_type": "code",
      "metadata": {
        "colab": {
          "base_uri": "https://localhost:8080/"
        },
        "id": "jpeSsdn_KxSl",
        "outputId": "8b7561d6-470a-4de1-fe3f-6bae8e3d25f5"
      },
      "source": [
        "class Classe_1:\n",
        "  def funcao(self, string):\n",
        "    dicionario = {'I': 1, 'V': 5, 'X':10, 'L':50, 'C':100, 'D':500, 'M':1000}\n",
        "    valor = 0\n",
        "    for i in range(len(string)):\n",
        "      if i>0 and dicionario[string[i]]>dicionario[string[i-1]]:\n",
        "        valor+= dicionario[string[i]] - 2*dicionario[string[i-1]]\n",
        "      else:\n",
        "        valor+= dicionario[string[i]]\n",
        "    return valor\n",
        "\n",
        "teste = Classe_1()\n",
        "teste.funcao('MC')"
      ],
      "execution_count": null,
      "outputs": [
        {
          "output_type": "execute_result",
          "data": {
            "text/plain": [
              "1100"
            ]
          },
          "metadata": {
            "tags": []
          },
          "execution_count": 15
        }
      ]
    },
    {
      "cell_type": "code",
      "metadata": {
        "id": "QMT1_aznMEWB"
      },
      "source": [
        "class A:\n",
        "  def __init__(self):\n",
        "    self.calcI(30)\n",
        "    print('i da classe A', self.i) \n",
        "  def calcI(self, i):\n",
        "    self.i = i*2\n",
        "class B(A):\n",
        "  def __init__(self):\n",
        "    super().__init__()\n",
        "  def calcI(self, i):\n",
        "    self.i = i*3\n",
        "\n",
        "b=B()\n"
      ],
      "execution_count": null,
      "outputs": []
    },
    {
      "cell_type": "code",
      "metadata": {
        "colab": {
          "base_uri": "https://localhost:8080/"
        },
        "id": "ETvCByH5MydA",
        "outputId": "9d45b2a4-d09c-4023-b373-0173d1007c6e"
      },
      "source": [
        "class Classe_2():\n",
        "  def __init__(self, l, w):\n",
        "    self.a = l\n",
        "    self.b = w\n",
        "  def metodo_1(self):\n",
        "    return self.a*self.b\n",
        "objeto_1 = Classe_2(12,10)\n",
        "objeto_1.metodo_1()"
      ],
      "execution_count": null,
      "outputs": [
        {
          "output_type": "execute_result",
          "data": {
            "text/plain": [
              "120"
            ]
          },
          "metadata": {
            "tags": []
          },
          "execution_count": 17
        }
      ]
    }
  ]
}