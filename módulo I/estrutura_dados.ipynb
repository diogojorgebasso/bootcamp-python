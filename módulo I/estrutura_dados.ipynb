{
 "cells": [
  {
   "cell_type": "markdown",
   "metadata": {},
   "source": [
    "## Conjuntos"
   ]
  },
  {
   "cell_type": "code",
   "execution_count": null,
   "metadata": {
    "vscode": {
     "languageId": "plaintext"
    }
   },
   "outputs": [],
   "source": [
    "conjuntoA= set() \n",
    "print(\"conjunto A:\", conjuntoA)\n",
    "print(type(conjuntoA))\n",
    "conjuntoA.update([12,14])\n",
    "conjuntoA.update((45,51))\n",
    "print(conjuntoA)\n",
    "conjuntoB = set([4,8,9])\n",
    "print(conjuntoA.union(conjuntoB))\n",
    "print(conjuntoA.intersection(conjuntoB))\n",
    "print(conjuntoA.issubset(conjuntoB))\n",
    "print(conjuntoA.difference(conjuntoB))\n",
    "print(conjuntoA.symmetric_difference(conjuntoB))\n",
    "dicionario = {'Diogo': 17, 'enrico':16, 'umberto':47}\n",
    "dicionario[0] = 'bolsonaro!'\n",
    "dicionario[1] = 'bananinha'\n",
    "print(dicionario)\n",
    "print(dicionario[0])"
   ]
  }
 ],
 "metadata": {
  "language_info": {
   "name": "python"
  }
 },
 "nbformat": 4,
 "nbformat_minor": 2
}
