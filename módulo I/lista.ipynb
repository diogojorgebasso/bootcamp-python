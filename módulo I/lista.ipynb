{
 "cells": [
  {
   "cell_type": "markdown",
   "metadata": {},
   "source": [
    "Como gerar e armazenar objeto numa lista"
   ]
  },
  {
   "cell_type": "code",
   "execution_count": 1,
   "metadata": {},
   "outputs": [
    {
     "data": {
      "text/plain": [
       "[0,\n",
       " 0,\n",
       " 'Fizz',\n",
       " 0,\n",
       " 'Buzz',\n",
       " 'Fizz',\n",
       " 0,\n",
       " 0,\n",
       " 'Fizz',\n",
       " 'Buzz',\n",
       " 0,\n",
       " 'Fizz',\n",
       " 0,\n",
       " 0,\n",
       " 'FizzBuzz']"
      ]
     },
     "execution_count": 1,
     "metadata": {},
     "output_type": "execute_result"
    }
   ],
   "source": [
    "def fizz_buzz_generator(function):\n",
    "  def wrapper(): #standard name\n",
    "    func = function()\n",
    "    lista =[]\n",
    "    for x in range(1,func+1):\n",
    "      if x%3==0 and x%5==0 :\n",
    "        lista.append(\"FizzBuzz\")\n",
    "      elif x%5==0:\n",
    "        lista.append(\"Buzz\")\n",
    "      elif x%3==0:\n",
    "        lista.append(\"Fizz\")\n",
    "      else:\n",
    "        lista.append(0)\n",
    "    return lista\n",
    "  return wrapper\n",
    "@fizz_buzz_generator\n",
    "def number_fizzbuzz_wanted():\n",
    "  return 15\n",
    "number_fizzbuzz_wanted()"
   ]
  },
  {
   "cell_type": "code",
   "execution_count": null,
   "metadata": {
    "id": "IZjepbbTEYdx"
   },
   "outputs": [],
   "source": [
    "#armazenando os objetos em uma lista\n",
    "from veiculos import Veiculo, VeiculoEletrico\n",
    "frota_combustivel_fossil = []\n",
    "frota_eletricos = []\n",
    "\n",
    "#criando a frota de veiculos\n",
    "for _ in range(100):\n",
    "    veiculo = Veiculo('Honda', 'Civic', 'Sedan')\n",
    "    frota_combustivel_fossil.append(veiculo)\n",
    "\n",
    "#criando a frota de veiculos eletricos\n",
    "for _ in range(50):\n",
    "    e_veiculos = VeiculoEletrico('Nissan', 'Leaf', 'Hatch')\n",
    "    frota_eletricos.append(e_veiculos)\n",
    "\n",
    "#abastecendo os veículos a combustão\n",
    "for veiculo in frota_combustivel_fossil:\n",
    "    veiculo.abastecer()\n",
    "\n",
    "#carregando os veículos eletricos\n",
    "for e_veiculo in frota_eletricos:\n",
    "    e_veiculo.carregar()\n",
    "    \n",
    "print('Veículos a Combustão: {}'.format(len(frota_combustivel_fossil)))\n",
    "print('Veículos Eletricos: {}'.format(len(frota_eletricos)))"
   ]
  }
 ],
 "metadata": {
  "interpreter": {
   "hash": "369f2c481f4da34e4445cda3fffd2e751bd1c4d706f27375911949ba6bb62e1c"
  },
  "kernelspec": {
   "display_name": "Python 3.10.4 64-bit",
   "language": "python",
   "name": "python3"
  },
  "language_info": {
   "codemirror_mode": {
    "name": "ipython",
    "version": 3
   },
   "file_extension": ".py",
   "mimetype": "text/x-python",
   "name": "python",
   "nbconvert_exporter": "python",
   "pygments_lexer": "ipython3",
   "version": "3.10.4"
  },
  "orig_nbformat": 4
 },
 "nbformat": 4,
 "nbformat_minor": 2
}
